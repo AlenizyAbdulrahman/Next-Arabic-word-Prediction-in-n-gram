{
  "nbformat": 4,
  "nbformat_minor": 0,
  "metadata": {
    "colab": {
      "provenance": []
    },
    "kernelspec": {
      "name": "python3",
      "display_name": "Python 3"
    },
    "language_info": {
      "name": "python"
    },
    "accelerator": "GPU",
    "gpuClass": "standard"
  },
  "cells": [
    {
      "cell_type": "markdown",
      "source": [
        "# Abdulrahman Okab Alenizy - 440024383"
      ],
      "metadata": {
        "id": "zauzTZeL9LBt"
      }
    },
    {
      "cell_type": "markdown",
      "source": [
        "1- Dwonload and import the important library"
      ],
      "metadata": {
        "id": "qOKBVHR69YZ8"
      }
    },
    {
      "cell_type": "code",
      "execution_count": null,
      "metadata": {
        "colab": {
          "base_uri": "https://localhost:8080/"
        },
        "id": "oXQ1kBFTYqy7",
        "outputId": "a374c305-b52b-4d38-8356-d3f6411c72fb"
      },
      "outputs": [
        {
          "output_type": "stream",
          "name": "stdout",
          "text": [
            "Looking in indexes: https://pypi.org/simple, https://us-python.pkg.dev/colab-wheels/public/simple/\n",
            "Requirement already satisfied: nltk in /usr/local/lib/python3.9/dist-packages (3.8.1)\n",
            "Requirement already satisfied: regex>=2021.8.3 in /usr/local/lib/python3.9/dist-packages (from nltk) (2022.10.31)\n",
            "Requirement already satisfied: click in /usr/local/lib/python3.9/dist-packages (from nltk) (8.1.3)\n",
            "Requirement already satisfied: tqdm in /usr/local/lib/python3.9/dist-packages (from nltk) (4.65.0)\n",
            "Requirement already satisfied: joblib in /usr/local/lib/python3.9/dist-packages (from nltk) (1.1.1)\n"
          ]
        }
      ],
      "source": [
        "!pip install nltk"
      ]
    },
    {
      "cell_type": "code",
      "source": [
        "import random\n",
        "import nltk\n",
        "from nltk.util import ngrams\n",
        "from collections import defaultdict, Counter\n",
        "import os\n",
        "from nltk import trigrams\n",
        "nltk.download('punkt')"
      ],
      "metadata": {
        "id": "A_dP_jBnZBoJ",
        "colab": {
          "base_uri": "https://localhost:8080/"
        },
        "outputId": "ff88b3b7-f2e7-46a8-a4f3-f01569a8658d"
      },
      "execution_count": 1,
      "outputs": [
        {
          "output_type": "stream",
          "name": "stderr",
          "text": [
            "[nltk_data] Downloading package punkt to /root/nltk_data...\n",
            "[nltk_data]   Package punkt is already up-to-date!\n"
          ]
        },
        {
          "output_type": "execute_result",
          "data": {
            "text/plain": [
              "True"
            ]
          },
          "metadata": {},
          "execution_count": 1
        }
      ]
    },
    {
      "cell_type": "markdown",
      "source": [
        "2- Open and read the corpus"
      ],
      "metadata": {
        "id": "4HCdRDvV9piU"
      }
    },
    {
      "cell_type": "code",
      "source": [
        "with open (\"/content/sample_data/aa1.txt\",'r',encoding='utf-8') as f:\n",
        "  text = f.read()\n"
      ],
      "metadata": {
        "id": "lWqRuJzflpxY"
      },
      "execution_count": 2,
      "outputs": []
    },
    {
      "cell_type": "markdown",
      "source": [
        "4- Tokenize the text"
      ],
      "metadata": {
        "id": "OLGKvcm8_lmD"
      }
    },
    {
      "cell_type": "code",
      "source": [
        "token_text = nltk.word_tokenize(text)"
      ],
      "metadata": {
        "id": "2sFrVHoB_py_"
      },
      "execution_count": 3,
      "outputs": []
    },
    {
      "cell_type": "markdown",
      "source": [
        "5- Next word prediction function"
      ],
      "metadata": {
        "id": "QzxyPtU-_4Nk"
      }
    },
    {
      "cell_type": "code",
      "source": [
        "\n",
        "def predict_next_word(word,num_of_pred):\n",
        "  # Define the order of the n-grams\n",
        "  n = 3\n",
        "\n",
        "  # Tokenize the text corpus into words\n",
        "  tokens = token_text\n",
        "\n",
        "  # Create a dictionary to store the n-grams and their frequency counts\n",
        "  ngrams = defaultdict(int)\n",
        "\n",
        "  # Loop through the tokens and generate n-grams\n",
        "  for i in range(len(tokens)-n+1):\n",
        "      gram = ' '.join(tokens[i:i+n])\n",
        "      ngrams[gram] += 1\n",
        "\n",
        "\n",
        "  # Prompt the user for a word to generate predictions for\n",
        "  prompt = word\n",
        "\n",
        "  # Loop through the n-grams and generate predictions for the prompt\n",
        "  predictions = []\n",
        "  for gram, count in ngrams.items():\n",
        "      if prompt in gram:\n",
        "          predictions.append((gram.split()[-1], count))\n",
        "\n",
        "  # Sort the predictions by frequency count\n",
        "  predictions.sort(key=lambda x: x[1], reverse=True)\n",
        "\n",
        "  # Print the top 3 predictions\n",
        "  print(f\"Predictions for '{prompt}':\")\n",
        "  for word, count in predictions[:num_of_pred]:\n",
        "      print(word)\n"
      ],
      "metadata": {
        "id": "6VKbyw3y01Cn"
      },
      "execution_count": 4,
      "outputs": []
    },
    {
      "cell_type": "markdown",
      "source": [
        "6- main method"
      ],
      "metadata": {
        "id": "Q1kX-gVVAzn0"
      }
    },
    {
      "cell_type": "code",
      "source": [
        "if __name__ == \"__main__\":\n",
        "  while True:\n",
        "          word = input(\"please enter your word.\")\n",
        "          num_of_pred = input(\"please enter number of next prediction word 2-6:\")\n",
        "          if int(num_of_pred) >= 2 and int(num_of_pred) <= 6:\n",
        "            predict_next_word(word,int(num_of_pred))\n",
        "            break\n",
        "          else:\n",
        "            print(\"please enter a number between 2 to 6:\")\n",
        "\n"
      ],
      "metadata": {
        "id": "d_N95DwQAzJ1"
      },
      "execution_count": null,
      "outputs": []
    },
    {
      "cell_type": "markdown",
      "source": [
        "Sample - **1**"
      ],
      "metadata": {
        "id": "nEHrQEv7FWyc"
      }
    },
    {
      "cell_type": "code",
      "source": [
        "predict_next_word(\"السلام\",3)"
      ],
      "metadata": {
        "colab": {
          "base_uri": "https://localhost:8080/"
        },
        "id": "zC1DY3hgFc2h",
        "outputId": "22327b6d-9913-482a-802d-2463d52987f1"
      },
      "execution_count": 5,
      "outputs": [
        {
          "output_type": "stream",
          "name": "stdout",
          "text": [
            "Predictions for 'السلام':\n",
            "السلام\n",
            "لست\n",
            "مؤمنا\n"
          ]
        }
      ]
    },
    {
      "cell_type": "markdown",
      "source": [
        "Sample - **2**"
      ],
      "metadata": {
        "id": "3Ph9sAtRFoQY"
      }
    },
    {
      "cell_type": "code",
      "source": [
        "predict_next_word(\"بسم\",4)"
      ],
      "metadata": {
        "colab": {
          "base_uri": "https://localhost:8080/"
        },
        "id": "e1hxAdo8Fssg",
        "outputId": "0def3ba1-1f02-4c98-cda2-8c7fd89a125d"
      },
      "execution_count": 6,
      "outputs": [
        {
          "output_type": "stream",
          "name": "stdout",
          "text": [
            "Predictions for 'بسم':\n",
            "الرحمن\n",
            "الله\n",
            "الله\n",
            "بسم\n"
          ]
        }
      ]
    },
    {
      "cell_type": "markdown",
      "source": [
        "Sample - **3**"
      ],
      "metadata": {
        "id": "MLOETsH3FzOa"
      }
    },
    {
      "cell_type": "code",
      "source": [
        "predict_next_word(\"الله\",5)"
      ],
      "metadata": {
        "colab": {
          "base_uri": "https://localhost:8080/"
        },
        "id": "XMWcgjziF08h",
        "outputId": "98a0f1ed-6012-46d6-b4b9-dc38db4a2f35"
      },
      "execution_count": 7,
      "outputs": [
        {
          "output_type": "stream",
          "name": "stdout",
          "text": [
            "Predictions for 'الله':\n",
            "الرحيم\n",
            "الرحمن\n",
            "الله\n",
            "الله\n",
            "الله\n"
          ]
        }
      ]
    },
    {
      "cell_type": "markdown",
      "source": [
        "Sample - **4**"
      ],
      "metadata": {
        "id": "5ZjBwMjzF6Pd"
      }
    },
    {
      "cell_type": "code",
      "source": [
        "predict_next_word(\"الممترين\",6)"
      ],
      "metadata": {
        "colab": {
          "base_uri": "https://localhost:8080/"
        },
        "id": "ko9yInWXF8E1",
        "outputId": "29d5635d-72b3-4559-9629-e4e5f959e663"
      },
      "execution_count": 8,
      "outputs": [
        {
          "output_type": "stream",
          "name": "stdout",
          "text": [
            "Predictions for 'الممترين':\n",
            "الممترين\n",
            "ولكل\n",
            "وجهة\n",
            "الممترين\n",
            "فمن\n",
            "حاجك\n"
          ]
        }
      ]
    },
    {
      "cell_type": "markdown",
      "source": [
        "Sample - **5**"
      ],
      "metadata": {
        "id": "stFzAbsAGB3Z"
      }
    },
    {
      "cell_type": "code",
      "source": [
        "predict_next_word(\"ولنبلونكم \",2)"
      ],
      "metadata": {
        "colab": {
          "base_uri": "https://localhost:8080/"
        },
        "id": "kMMDlbJGGDib",
        "outputId": "c3379502-d543-48b2-f85d-f6aee874ac30"
      },
      "execution_count": 9,
      "outputs": [
        {
          "output_type": "stream",
          "name": "stdout",
          "text": [
            "Predictions for 'ولنبلونكم ':\n",
            "بشيء\n",
            "من\n"
          ]
        }
      ]
    },
    {
      "cell_type": "markdown",
      "source": [
        "Sample - **6**"
      ],
      "metadata": {
        "id": "yD5U3nwQGN-i"
      }
    },
    {
      "cell_type": "code",
      "source": [
        "predict_next_word(\"يكتمون\",5)"
      ],
      "metadata": {
        "colab": {
          "base_uri": "https://localhost:8080/"
        },
        "id": "t5Gtd9O7GPz2",
        "outputId": "3418f1f5-1621-444b-a076-d8760e4f94a2"
      },
      "execution_count": 10,
      "outputs": [
        {
          "output_type": "stream",
          "name": "stdout",
          "text": [
            "Predictions for 'يكتمون':\n",
            "يكتمون\n",
            "ما\n",
            "ليكتمون\n",
            "الحق\n",
            "وهم\n"
          ]
        }
      ]
    },
    {
      "cell_type": "markdown",
      "source": [
        "Sample - **7**"
      ],
      "metadata": {
        "id": "K_LeoQu-G8ml"
      }
    },
    {
      "cell_type": "code",
      "source": [
        "predict_next_word(\"الصفا\",3)"
      ],
      "metadata": {
        "colab": {
          "base_uri": "https://localhost:8080/"
        },
        "id": "F9F2WYvXG-0_",
        "outputId": "88a6aa86-9449-4486-a307-e60b08093078"
      },
      "execution_count": 11,
      "outputs": [
        {
          "output_type": "stream",
          "name": "stdout",
          "text": [
            "Predictions for 'الصفا':\n",
            "الصفا\n",
            "والمروة\n",
            "من\n"
          ]
        }
      ]
    },
    {
      "cell_type": "markdown",
      "source": [
        "Sample - **8**"
      ],
      "metadata": {
        "id": "aFvVBUB7Homj"
      }
    },
    {
      "cell_type": "code",
      "source": [
        "predict_next_word(\"معدودات\",6)"
      ],
      "metadata": {
        "colab": {
          "base_uri": "https://localhost:8080/"
        },
        "id": "FlhddbRwHqSM",
        "outputId": "ecdd88a6-e645-4532-95ef-5407035254de"
      },
      "execution_count": 12,
      "outputs": [
        {
          "output_type": "stream",
          "name": "stdout",
          "text": [
            "Predictions for 'معدودات':\n",
            "معدودات\n",
            "فمن\n",
            "كان\n",
            "معدودات\n",
            "فمن\n",
            "تعجل\n"
          ]
        }
      ]
    },
    {
      "cell_type": "markdown",
      "source": [
        "## the 10 high frequent (trigram) in the corpus"
      ],
      "metadata": {
        "id": "Ef4ZXpouHyt7"
      }
    },
    {
      "cell_type": "code",
      "source": [
        "def get_trigrams(text):\n",
        "    # Get the list of words in the text\n",
        "    words = text.split()\n",
        "\n",
        "    # Generate trigrams\n",
        "    trigrams = [' '.join(words[i:i+3]) for i in range(len(words) - 2)]\n",
        "\n",
        "    return trigrams\n",
        "\n",
        "def get_most_frequent_trigrams(text, n=10):\n",
        "    trigrams = get_trigrams(text)\n",
        "    trigram_counts = Counter(trigrams)\n",
        "    most_frequent_trigrams = trigram_counts.most_common(n)\n",
        "\n",
        "    return most_frequent_trigrams\n",
        "\n",
        "# Example usage:\n",
        "top_10_trigrams = get_most_frequent_trigrams(\" \".join(token_text))\n",
        "print(top_10_trigrams)"
      ],
      "metadata": {
        "colab": {
          "base_uri": "https://localhost:8080/"
        },
        "id": "0uFiAlcllkrx",
        "outputId": "ba7f6d4d-d877-4fad-bf3f-15931ff6972e"
      },
      "execution_count": 14,
      "outputs": [
        {
          "output_type": "stream",
          "name": "stdout",
          "text": [
            "[('الله الرحمن الرحيم', 114), ('بسم الله الرحمن', 113), ('يا أيها الذين', 92), ('أيها الذين آمنوا', 89), ('من دون الله', 71), ('على كل شيء', 52), ('آمنوا وعملوا الصالحات', 50), ('إن في ذلك', 50), ('في سبيل الله', 44), ('ما في السماوات', 39)]\n"
          ]
        }
      ]
    }
  ]
}