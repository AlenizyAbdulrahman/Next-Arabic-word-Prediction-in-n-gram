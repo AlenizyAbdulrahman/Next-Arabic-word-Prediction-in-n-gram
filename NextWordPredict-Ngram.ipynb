{
  "cells": [
    {
      "attachments": {},
      "cell_type": "markdown",
      "metadata": {
        "id": "qOKBVHR69YZ8"
      },
      "source": [
        "1- Dwonload and import the important library"
      ]
    },
    {
      "cell_type": "code",
      "execution_count": null,
      "metadata": {
        "colab": {
          "base_uri": "https://localhost:8080/"
        },
        "id": "oXQ1kBFTYqy7",
        "outputId": "a374c305-b52b-4d38-8356-d3f6411c72fb"
      },
      "outputs": [
        {
          "name": "stdout",
          "output_type": "stream",
          "text": [
            "Looking in indexes: https://pypi.org/simple, https://us-python.pkg.dev/colab-wheels/public/simple/\n",
            "Requirement already satisfied: nltk in /usr/local/lib/python3.9/dist-packages (3.8.1)\n",
            "Requirement already satisfied: regex>=2021.8.3 in /usr/local/lib/python3.9/dist-packages (from nltk) (2022.10.31)\n",
            "Requirement already satisfied: click in /usr/local/lib/python3.9/dist-packages (from nltk) (8.1.3)\n",
            "Requirement already satisfied: tqdm in /usr/local/lib/python3.9/dist-packages (from nltk) (4.65.0)\n",
            "Requirement already satisfied: joblib in /usr/local/lib/python3.9/dist-packages (from nltk) (1.1.1)\n"
          ]
        }
      ],
      "source": [
        "!pip install nltk"
      ]
    },
    {
      "cell_type": "code",
      "execution_count": 1,
      "metadata": {
        "colab": {
          "base_uri": "https://localhost:8080/"
        },
        "id": "A_dP_jBnZBoJ",
        "outputId": "ff88b3b7-f2e7-46a8-a4f3-f01569a8658d"
      },
      "outputs": [
        {
          "name": "stderr",
          "output_type": "stream",
          "text": [
            "[nltk_data] Downloading package punkt to /root/nltk_data...\n",
            "[nltk_data]   Package punkt is already up-to-date!\n"
          ]
        },
        {
          "data": {
            "text/plain": [
              "True"
            ]
          },
          "execution_count": 1,
          "metadata": {},
          "output_type": "execute_result"
        }
      ],
      "source": [
        "import random\n",
        "import nltk\n",
        "from nltk.util import ngrams\n",
        "from collections import defaultdict, Counter\n",
        "import os\n",
        "from nltk import trigrams\n",
        "nltk.download('punkt')"
      ]
    },
    {
      "attachments": {},
      "cell_type": "markdown",
      "metadata": {
        "id": "4HCdRDvV9piU"
      },
      "source": [
        "2- Open and read the corpus"
      ]
    },
    {
      "cell_type": "code",
      "execution_count": 2,
      "metadata": {
        "id": "lWqRuJzflpxY"
      },
      "outputs": [],
      "source": [
        "with open (\"/content/sample_data/aa1.txt\",'r',encoding='utf-8') as f:\n",
        "  text = f.read()\n"
      ]
    },
    {
      "attachments": {},
      "cell_type": "markdown",
      "metadata": {
        "id": "OLGKvcm8_lmD"
      },
      "source": [
        "4- Tokenize the text"
      ]
    },
    {
      "cell_type": "code",
      "execution_count": 3,
      "metadata": {
        "id": "2sFrVHoB_py_"
      },
      "outputs": [],
      "source": [
        "token_text = nltk.word_tokenize(text)"
      ]
    },
    {
      "attachments": {},
      "cell_type": "markdown",
      "metadata": {
        "id": "QzxyPtU-_4Nk"
      },
      "source": [
        "5- Next word prediction function"
      ]
    },
    {
      "cell_type": "code",
      "execution_count": 4,
      "metadata": {
        "id": "6VKbyw3y01Cn"
      },
      "outputs": [],
      "source": [
        "\n",
        "def predict_next_word(word,num_of_pred):\n",
        "  # Define the order of the n-grams\n",
        "  n = 3\n",
        "\n",
        "  # Tokenize the text corpus into words\n",
        "  tokens = token_text\n",
        "\n",
        "  # Create a dictionary to store the n-grams and their frequency counts\n",
        "  ngrams = defaultdict(int)\n",
        "\n",
        "  # Loop through the tokens and generate n-grams\n",
        "  for i in range(len(tokens)-n+1):\n",
        "      gram = ' '.join(tokens[i:i+n])\n",
        "      ngrams[gram] += 1\n",
        "\n",
        "\n",
        "  # Prompt the user for a word to generate predictions for\n",
        "  prompt = word\n",
        "\n",
        "  # Loop through the n-grams and generate predictions for the prompt\n",
        "  predictions = []\n",
        "  for gram, count in ngrams.items():\n",
        "      if prompt in gram:\n",
        "          predictions.append((gram.split()[-1], count))\n",
        "\n",
        "  # Sort the predictions by frequency count\n",
        "  predictions.sort(key=lambda x: x[1], reverse=True)\n",
        "\n",
        "  # Print the top 3 predictions\n",
        "  print(f\"Predictions for '{prompt}':\")\n",
        "  for word, count in predictions[:num_of_pred]:\n",
        "      print(word)\n"
      ]
    },
    {
      "attachments": {},
      "cell_type": "markdown",
      "metadata": {
        "id": "Q1kX-gVVAzn0"
      },
      "source": [
        "6- main method"
      ]
    },
    {
      "cell_type": "code",
      "execution_count": null,
      "metadata": {
        "id": "d_N95DwQAzJ1"
      },
      "outputs": [],
      "source": [
        "if __name__ == \"__main__\":\n",
        "  while True:\n",
        "          word = input(\"please enter your word.\")\n",
        "          num_of_pred = input(\"please enter number of next prediction word 2-6:\")\n",
        "          if int(num_of_pred) >= 2 and int(num_of_pred) <= 6:\n",
        "            predict_next_word(word,int(num_of_pred))\n",
        "            break\n",
        "          else:\n",
        "            print(\"please enter a number between 2 to 6:\")\n",
        "\n"
      ]
    },
    {
      "attachments": {},
      "cell_type": "markdown",
      "metadata": {
        "id": "nEHrQEv7FWyc"
      },
      "source": [
        "Sample - **1**"
      ]
    },
    {
      "cell_type": "code",
      "execution_count": 5,
      "metadata": {
        "colab": {
          "base_uri": "https://localhost:8080/"
        },
        "id": "zC1DY3hgFc2h",
        "outputId": "22327b6d-9913-482a-802d-2463d52987f1"
      },
      "outputs": [
        {
          "name": "stdout",
          "output_type": "stream",
          "text": [
            "Predictions for 'السلام':\n",
            "السلام\n",
            "لست\n",
            "مؤمنا\n"
          ]
        }
      ],
      "source": [
        "predict_next_word(\"السلام\",3)"
      ]
    },
    {
      "attachments": {},
      "cell_type": "markdown",
      "metadata": {
        "id": "3Ph9sAtRFoQY"
      },
      "source": [
        "Sample - **2**"
      ]
    },
    {
      "cell_type": "code",
      "execution_count": 6,
      "metadata": {
        "colab": {
          "base_uri": "https://localhost:8080/"
        },
        "id": "e1hxAdo8Fssg",
        "outputId": "0def3ba1-1f02-4c98-cda2-8c7fd89a125d"
      },
      "outputs": [
        {
          "name": "stdout",
          "output_type": "stream",
          "text": [
            "Predictions for 'بسم':\n",
            "الرحمن\n",
            "الله\n",
            "الله\n",
            "بسم\n"
          ]
        }
      ],
      "source": [
        "predict_next_word(\"بسم\",4)"
      ]
    },
    {
      "attachments": {},
      "cell_type": "markdown",
      "metadata": {
        "id": "MLOETsH3FzOa"
      },
      "source": [
        "Sample - **3**"
      ]
    },
    {
      "cell_type": "code",
      "execution_count": 7,
      "metadata": {
        "colab": {
          "base_uri": "https://localhost:8080/"
        },
        "id": "XMWcgjziF08h",
        "outputId": "98a0f1ed-6012-46d6-b4b9-dc38db4a2f35"
      },
      "outputs": [
        {
          "name": "stdout",
          "output_type": "stream",
          "text": [
            "Predictions for 'الله':\n",
            "الرحيم\n",
            "الرحمن\n",
            "الله\n",
            "الله\n",
            "الله\n"
          ]
        }
      ],
      "source": [
        "predict_next_word(\"الله\",5)"
      ]
    },
    {
      "attachments": {},
      "cell_type": "markdown",
      "metadata": {
        "id": "5ZjBwMjzF6Pd"
      },
      "source": [
        "Sample - **4**"
      ]
    },
    {
      "cell_type": "code",
      "execution_count": 8,
      "metadata": {
        "colab": {
          "base_uri": "https://localhost:8080/"
        },
        "id": "ko9yInWXF8E1",
        "outputId": "29d5635d-72b3-4559-9629-e4e5f959e663"
      },
      "outputs": [
        {
          "name": "stdout",
          "output_type": "stream",
          "text": [
            "Predictions for 'الممترين':\n",
            "الممترين\n",
            "ولكل\n",
            "وجهة\n",
            "الممترين\n",
            "فمن\n",
            "حاجك\n"
          ]
        }
      ],
      "source": [
        "predict_next_word(\"الممترين\",6)"
      ]
    },
    {
      "attachments": {},
      "cell_type": "markdown",
      "metadata": {
        "id": "stFzAbsAGB3Z"
      },
      "source": [
        "Sample - **5**"
      ]
    },
    {
      "cell_type": "code",
      "execution_count": 9,
      "metadata": {
        "colab": {
          "base_uri": "https://localhost:8080/"
        },
        "id": "kMMDlbJGGDib",
        "outputId": "c3379502-d543-48b2-f85d-f6aee874ac30"
      },
      "outputs": [
        {
          "name": "stdout",
          "output_type": "stream",
          "text": [
            "Predictions for 'ولنبلونكم ':\n",
            "بشيء\n",
            "من\n"
          ]
        }
      ],
      "source": [
        "predict_next_word(\"ولنبلونكم \",2)"
      ]
    },
    {
      "attachments": {},
      "cell_type": "markdown",
      "metadata": {
        "id": "yD5U3nwQGN-i"
      },
      "source": [
        "Sample - **6**"
      ]
    },
    {
      "cell_type": "code",
      "execution_count": 10,
      "metadata": {
        "colab": {
          "base_uri": "https://localhost:8080/"
        },
        "id": "t5Gtd9O7GPz2",
        "outputId": "3418f1f5-1621-444b-a076-d8760e4f94a2"
      },
      "outputs": [
        {
          "name": "stdout",
          "output_type": "stream",
          "text": [
            "Predictions for 'يكتمون':\n",
            "يكتمون\n",
            "ما\n",
            "ليكتمون\n",
            "الحق\n",
            "وهم\n"
          ]
        }
      ],
      "source": [
        "predict_next_word(\"يكتمون\",5)"
      ]
    },
    {
      "attachments": {},
      "cell_type": "markdown",
      "metadata": {
        "id": "K_LeoQu-G8ml"
      },
      "source": [
        "Sample - **7**"
      ]
    },
    {
      "cell_type": "code",
      "execution_count": 11,
      "metadata": {
        "colab": {
          "base_uri": "https://localhost:8080/"
        },
        "id": "F9F2WYvXG-0_",
        "outputId": "88a6aa86-9449-4486-a307-e60b08093078"
      },
      "outputs": [
        {
          "name": "stdout",
          "output_type": "stream",
          "text": [
            "Predictions for 'الصفا':\n",
            "الصفا\n",
            "والمروة\n",
            "من\n"
          ]
        }
      ],
      "source": [
        "predict_next_word(\"الصفا\",3)"
      ]
    },
    {
      "attachments": {},
      "cell_type": "markdown",
      "metadata": {
        "id": "aFvVBUB7Homj"
      },
      "source": [
        "Sample - **8**"
      ]
    },
    {
      "cell_type": "code",
      "execution_count": 12,
      "metadata": {
        "colab": {
          "base_uri": "https://localhost:8080/"
        },
        "id": "FlhddbRwHqSM",
        "outputId": "ecdd88a6-e645-4532-95ef-5407035254de"
      },
      "outputs": [
        {
          "name": "stdout",
          "output_type": "stream",
          "text": [
            "Predictions for 'معدودات':\n",
            "معدودات\n",
            "فمن\n",
            "كان\n",
            "معدودات\n",
            "فمن\n",
            "تعجل\n"
          ]
        }
      ],
      "source": [
        "predict_next_word(\"معدودات\",6)"
      ]
    },
    {
      "attachments": {},
      "cell_type": "markdown",
      "metadata": {
        "id": "Ef4ZXpouHyt7"
      },
      "source": [
        "## the 10 high frequent (trigram) in the corpus"
      ]
    },
    {
      "cell_type": "code",
      "execution_count": 14,
      "metadata": {
        "colab": {
          "base_uri": "https://localhost:8080/"
        },
        "id": "0uFiAlcllkrx",
        "outputId": "ba7f6d4d-d877-4fad-bf3f-15931ff6972e"
      },
      "outputs": [
        {
          "name": "stdout",
          "output_type": "stream",
          "text": [
            "[('الله الرحمن الرحيم', 114), ('بسم الله الرحمن', 113), ('يا أيها الذين', 92), ('أيها الذين آمنوا', 89), ('من دون الله', 71), ('على كل شيء', 52), ('آمنوا وعملوا الصالحات', 50), ('إن في ذلك', 50), ('في سبيل الله', 44), ('ما في السماوات', 39)]\n"
          ]
        }
      ],
      "source": [
        "def get_trigrams(text):\n",
        "    # Get the list of words in the text\n",
        "    words = text.split()\n",
        "\n",
        "    # Generate trigrams\n",
        "    trigrams = [' '.join(words[i:i+3]) for i in range(len(words) - 2)]\n",
        "\n",
        "    return trigrams\n",
        "\n",
        "def get_most_frequent_trigrams(text, n=10):\n",
        "    trigrams = get_trigrams(text)\n",
        "    trigram_counts = Counter(trigrams)\n",
        "    most_frequent_trigrams = trigram_counts.most_common(n)\n",
        "\n",
        "    return most_frequent_trigrams\n",
        "\n",
        "# Example usage:\n",
        "top_10_trigrams = get_most_frequent_trigrams(\" \".join(token_text))\n",
        "print(top_10_trigrams)"
      ]
    }
  ],
  "metadata": {
    "accelerator": "GPU",
    "colab": {
      "provenance": []
    },
    "gpuClass": "standard",
    "kernelspec": {
      "display_name": "Python 3",
      "name": "python3"
    },
    "language_info": {
      "name": "python"
    }
  },
  "nbformat": 4,
  "nbformat_minor": 0
}
